{
  "nbformat": 4,
  "nbformat_minor": 0,
  "metadata": {
    "colab": {
      "provenance": []
    },
    "kernelspec": {
      "name": "python3",
      "display_name": "Python 3"
    },
    "language_info": {
      "name": "python"
    }
  },
  "cells": [
    {
      "cell_type": "markdown",
      "source": [
        "Assignment-11 Advanced Selectors"
      ],
      "metadata": {
        "id": "JYc6TNQmZh78"
      }
    },
    {
      "cell_type": "markdown",
      "source": [
        "Q1. For the given index.html file. Perform the following task, without changing the index.html file.\n",
        "index.html (The HTML file)\n",
        "\n",
        "A. Create a CSS file to apply styles to the HTML element, and link it\n",
        "\n",
        "B. Using the combinator selector, perform the following task.\n",
        "\n",
        "* Use any of the CSS combinator selectors to target all the anchor tags and\n",
        " change the text color to red\n",
        "\n",
        "* Target only the first `<h2>` tag and change the text and background color using the combinator selectol\n",
        "* Also, select the first `<p>` tag and change the text color to red.\n",
        "\n",
        "C. Using the attribute selector, perform the following tas\n",
        "* target the anchor tag with attribute \"href\" and change color to red and remove the text underline¢\n",
        "* Target the anchor tag with the attribute of class name “active”, change the text color, and provide the text\n",
        "style properties with underlining\n",
        "* Target the anchor tag with the attribute of the target whose value is “_self” and change the background\n",
        "color.\n",
        "\n",
        "D. Using the Pseudo selectors, perform the following tas\n",
        "* Target the last `<p>` tag and add “...” i.e. three dots after its valuÆ\n",
        "* Target the list of bullet points and change the color of the bullet points without changing the list item's value\n",
        "* Among the three `<p>` tags target the 2nd `<p>` tag, select the first letter of the second `<p>` tag, and change the\n",
        "color to red Also increase the font size to 30px"
      ],
      "metadata": {
        "id": "chlNCoX3Zoyh"
      }
    },
    {
      "cell_type": "code",
      "source": [
        "html_content = \"\"\"\n",
        "<!DOCTYPE html>\n",
        "<html lang=\"en\">\n",
        "<head>\n",
        "    <meta charset=\"UTF-8\">\n",
        "    <meta name=\"viewport\" content=\"width=device-width, initial-scale=1.0\">\n",
        "    <title>Test</title>\n",
        "    <link rel=\"stylesheet\" href=\"style.css\">\n",
        "</head>\n",
        "<body>\n",
        "    <header>\n",
        "        <nav>\n",
        "           <h2>TOI</h2>\n",
        "           <div>\n",
        "            <h2>Menu</h2>\n",
        "            <ul>\n",
        "                <li> <a href=\"#\" target=\"_blank\">Home</a> </li>\n",
        "                <li> <a href=\"#\" class=\"active\" target=\"_self\">About</a> </li>\n",
        "                <li><a href=\"#\" target=\"_blank\">Services</a> </li>\n",
        "                <li><a href=\"#\" target=\"_blank\">Contact</a> </li>\n",
        "            </ul>\n",
        "           </div>\n",
        "           <p>The times of India</p>\n",
        "           <p>Lorem, ipsum dolor sit amet consectetur adipisicing elit. Soluta quisquam, ex ullam aspernatur eius nostrum! Sed accusantium soluta incidunt itaque aperiam.\n",
        "\n",
        "           </p>\n",
        "           <p>read articles</p>\n",
        "        </nav>\n",
        "    </header>\n",
        "</body>\n",
        "</html>\n",
        " \"\"\"\n",
        "\n",
        "# You can now write this string to an index.html file\n",
        "with open(\"index.html\", \"w\") as f:\n",
        "    f.write(html_content)\n",
        "\n",
        "\n",
        "\n",
        "# Define the CSS content as a string\n",
        "css_content = \"\"\"\n",
        "\n",
        "\n",
        "    li a{\n",
        "    color: red;\n",
        "}\n",
        "\n",
        "nav > h2{\n",
        "    color:green;\n",
        "    background-color: black;\n",
        "}\n",
        "div + p{\n",
        "    color:red;\n",
        "}\n",
        "a[href]{\n",
        "    color:red;\n",
        "    text-decoration:none;\n",
        "}\n",
        "a[class=\"active\"]{\n",
        "    color:blue;\n",
        "    text-decoration: underline;\n",
        "}\n",
        "a[target=\"_self\"]{\n",
        "    background-color: yellow;\n",
        "}\n",
        "\n",
        "/* nav:last-child::after{\n",
        "    content:\"...\";\n",
        "\n",
        "} */\n",
        " p:last-of-type::after{\n",
        "    content:\"...\";\n",
        " }\n",
        " ul {\n",
        "    color:blue;\n",
        " }\n",
        " p:nth-of-type(2)::first-letter{\n",
        "    color:red;\n",
        "    font-size:30px;\n",
        " }\n",
        " \"\"\"\n",
        "\n",
        "# Write the CSS content to a file named style.css\n",
        "with open(\"style.css\", \"w\") as f:\n",
        "    f.write(css_content)"
      ],
      "metadata": {
        "id": "hbZhKs8ybp7I"
      },
      "execution_count": null,
      "outputs": []
    },
    {
      "cell_type": "code",
      "execution_count": null,
      "metadata": {
        "id": "xzwmpVIZZP5Q"
      },
      "outputs": [],
      "source": []
    },
    {
      "cell_type": "markdown",
      "source": [
        "Q2.  Create a CSS file and link it to the provided HTML file below, use any of the combinator class selectors to\n",
        "style the navigation menu as follows -\n",
        "index.html (The HTML file)\n",
        "* Use the Descendant combinator selector to remove list style type bullet points and text underlining of the\n",
        "Menu list itemse\n",
        "* Use the child combinator to display the menu list item inlin^\n",
        "* Use the Adjacent sibling combinator selector to apply some margin between the menu list items."
      ],
      "metadata": {
        "id": "mALlvP7xdedW"
      }
    },
    {
      "cell_type": "code",
      "source": [
        "html_content = \"\"\"\n",
        "\n",
        "<!DOCTYPE html>\n",
        "<html lang=\"en\">\n",
        "<head>\n",
        "    <meta charset=\"UTF-8\">\n",
        "    <meta name=\"viewport\" content=\"width=device-width, initial-scale=1.0\">\n",
        "    <title>Styled Navigation Menu</title>\n",
        "    <link rel=\"stylesheet\" href=\"style1.css\">\n",
        "</head>\n",
        "<body>\n",
        "    <header>\n",
        "        <nav>\n",
        "            <ul>\n",
        "                <li><a href=\"#\">Home</a> </li>\n",
        "                <li><a href=\"#\">About</a></li>\n",
        "                <li><a href=\"#\">Services</a></li>\n",
        "                <li><a href=\"#\">Portfolio</a></li>\n",
        "                <li><a href=\"#\">Contact</a></li>\n",
        "            </ul>\n",
        "        </nav>\n",
        "    </header>\n",
        "    <main>\n",
        "       <!--Your Content here-->\n",
        "    </main>\n",
        "\n",
        "</body>\n",
        "</html>\n",
        "\"\"\"\n",
        "\n",
        "# You can now write this string to an index.html file\n",
        "with open(\"index.html\", \"w\") as f:\n",
        "    f.write(html_content)\n",
        "\n",
        "\n",
        "\n",
        "# Define the CSS content as a string\n",
        "css_content = \"\"\"\n",
        "\n",
        "\n",
        "ul li{\n",
        "    list-style-type:none;\n",
        "}\n",
        "li a {\n",
        "    text-decoration: none;\n",
        "}\n",
        "ul > li {\n",
        "    display: inline;\n",
        "}\n",
        "li ~ li{\n",
        "    margin:20px;\n",
        "}\n",
        "\"\"\"\n",
        "\n",
        "# Write the CSS content to a file named style.css\n",
        "with open(\"style.css\", \"w\") as f:\n",
        "    f.write(css_content)"
      ],
      "metadata": {
        "id": "dKAXaYDMdnl-"
      },
      "execution_count": null,
      "outputs": []
    },
    {
      "cell_type": "markdown",
      "source": [
        "Q3. Using any of the Pseudo element selectors, add any random words after and before the given HTML tag"
      ],
      "metadata": {
        "id": "K8u-nMUld-Te"
      }
    },
    {
      "cell_type": "code",
      "source": [
        "html_content = \"\"\"\n",
        "<!DOCTYPE html>\n",
        "<html lang=\"en\">\n",
        "<head>\n",
        "    <meta charset=\"UTF-8\">\n",
        "    <meta name=\"viewport\" content=\"width=device-width, initial-scale=1.0\">\n",
        "    <title>Psuedo Element</title>\n",
        "    <style>\n",
        "        h1::before{\n",
        "            content:\"--pseudo\";\n",
        "        }\n",
        "        h1::after{\n",
        "            content:\"Selector--\";\n",
        "        }\n",
        "    </style>\n",
        "</head>\n",
        "<body>\n",
        "    <h1>-element-</h1>\n",
        "</body>\n",
        "</html>\n",
        "\"\"\"\n",
        "\n",
        "# Write the HTML content to a file (e.g., index3.html)\n",
        "with open(\"index3.html\", \"w\") as f:\n",
        "    f.write(html_content)"
      ],
      "metadata": {
        "id": "E3uNr67pd_Ye"
      },
      "execution_count": null,
      "outputs": []
    },
    {
      "cell_type": "markdown",
      "source": [
        "Q4. Using any of the Pseudo element selectors, add any random words after and before the given HTML tag\n",
        "\n",
        "* An example should be one HTML button tag`\n",
        "* When hovering the color should be changed and the shadow of the button should be added.\n",
        "* Proper padding space should be given.\n",
        "* The cursor style should also be changed to a pointer on hover"
      ],
      "metadata": {
        "id": "0Z2lAwLgeUOV"
      }
    },
    {
      "cell_type": "code",
      "source": [
        "html_content = \"\"\"\n",
        "<!DOCTYPE html>\n",
        "<html lang=\"en\">\n",
        "<head>\n",
        "    <meta charset=\"UTF-8\">\n",
        "    <meta name=\"viewport\" content=\"width=device-width, initial-scale=1.0\">\n",
        "    <title>HTML button tag</title>\n",
        "    <style>\n",
        "        button{\n",
        "            padding:10px 30px;\n",
        "            background-color: royalblue;\n",
        "            border:none;\n",
        "            border-radius: 10px;\n",
        "            color:#ffffff;\n",
        "            font-size: 24px;\n",
        "        }\n",
        "        button:hover{\n",
        "         opacity: 0.6;\n",
        "         box-shadow: 6px 4px 2px 3px rgba(127 126 135 / 70%);\n",
        "         transition: all 0.5s;\n",
        "         cursor: pointer;\n",
        "        }\n",
        "    </style>\n",
        "</head>\n",
        "<body>\n",
        "    <button>PW Skills</button>\n",
        "\n",
        "</body>\n",
        "</html>\n",
        "\"\"\"\n",
        "\n",
        "# Write the HTML content to a file (e.g., index3.html)\n",
        "with open(\"index3.html\", \"w\") as f:\n",
        "    f.write(html_content)"
      ],
      "metadata": {
        "id": "iGvEIRL7e0LW"
      },
      "execution_count": null,
      "outputs": []
    }
  ]
}